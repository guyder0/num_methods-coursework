{
 "cells": [
  {
   "cell_type": "code",
   "execution_count": 1,
   "id": "fe47fc28",
   "metadata": {},
   "outputs": [],
   "source": [
    "import numpy as np\n",
    "import matplotlib.pyplot as plt\n",
    "from matplotlib.animation import FuncAnimation, PillowWriter\n",
    "from scipy.sparse.linalg import spsolve\n",
    "from scipy.sparse import csr_matrix\n",
    "import time\n",
    "from matplotlib.animation import FuncAnimation"
   ]
  },
  {
   "cell_type": "code",
   "execution_count": 2,
   "id": "c04e6371",
   "metadata": {},
   "outputs": [],
   "source": [
    "try_number = 0"
   ]
  },
  {
   "cell_type": "code",
   "execution_count": 3,
   "id": "b3d12801",
   "metadata": {},
   "outputs": [],
   "source": [
    "T = 0.1\n",
    "field_size = 200\n",
    "time_duration = 100\n",
    "\n",
    "t = T / time_duration\n",
    "h = 1 / field_size\n",
    "u = np.zeros((field_size, field_size, int(T / t)))\n",
    "\n",
    "\n",
    "def phi(x, y):\n",
    "    return np.sin(np.pi*x) * np.sin(np.pi*y)\n",
    "\n",
    "\n",
    "def g(x, y, t):\n",
    "    return 0"
   ]
  },
  {
   "cell_type": "code",
   "execution_count": 4,
   "id": "53bb063a",
   "metadata": {},
   "outputs": [],
   "source": [
    "def generate_A(n, h, t):\n",
    "    A = np.eye((n * n), dtype='float')\n",
    "    for i in range(1, n - 1):\n",
    "        for j in range(1, n - 1):\n",
    "            row = n * j + i\n",
    "            A[row][n * j + i] = h ** 2 + 4 * t\n",
    "            A[row][n * j + (i - 1)] = -t\n",
    "            A[row][n * j + (i + 1)] = -t\n",
    "            A[row][n * (j - 1) + i] = -t\n",
    "            A[row][n * (j + 1) + i] = -t\n",
    "    return A\n",
    "            \n",
    "\n",
    "def generate_b(u, n, h, t, k):\n",
    "    b = np.zeros((n, n))\n",
    "    \n",
    "    boundary_mask = np.zeros((n, n), dtype=bool)\n",
    "    boundary_mask[0, :] = boundary_mask[-1, :] = True\n",
    "    boundary_mask[:, 0] = boundary_mask[:, -1] = True\n",
    "    \n",
    "    inner_mask = ~boundary_mask\n",
    "    i, j = np.where(boundary_mask)\n",
    "    b[boundary_mask] = g(i * h, j * h, k * t)\n",
    "    \n",
    "    b[inner_mask] = h ** 2 * u[inner_mask][:, k]\n",
    "    b = b.ravel()\n",
    "    \n",
    "    return b"
   ]
  },
  {
   "cell_type": "code",
   "execution_count": null,
   "id": "1be2e4e3-fe6c-475e-b5dd-8c74b259b6ac",
   "metadata": {},
   "outputs": [],
   "source": [
    "A = csr_matrix(generate_A(field_size, h, t))"
   ]
  },
  {
   "cell_type": "code",
   "execution_count": 5,
   "id": "759d2e54",
   "metadata": {},
   "outputs": [],
   "source": [
    "def Solution():\n",
    "    for i in range(field_size):\n",
    "        for j in range(field_size):\n",
    "            if i == 0 or j == 0 or i == field_size - 1 or j == field_size - 1:\n",
    "                u[i][j][0] = g(i * h, j * h, 0)\n",
    "            else:\n",
    "                u[i][j][0] = phi(i * h, j * h)\n",
    "    \n",
    "    for k in range(1, time_duration):\n",
    "        b = generate_b(u, field_size, h, t, k - 1)\n",
    "        y = spsolve(A, b)\n",
    "        u[:, :, k] = y.reshape(field_size, field_size)"
   ]
  },
  {
   "cell_type": "code",
   "execution_count": 6,
   "id": "703ff041",
   "metadata": {},
   "outputs": [],
   "source": [
    "Solution()"
   ]
  },
  {
   "cell_type": "code",
   "execution_count": 7,
   "id": "2a3895b3",
   "metadata": {},
   "outputs": [
    {
     "data": {
      "image/png": "[encoded data removed]",
      "text/plain": [
       "<Figure size 640x480 with 2 Axes>"
      ]
     },
     "metadata": {},
     "output_type": "display_data"
    }
   ],
   "source": [
    "fig, ax = plt.subplots()\n",
    "frames = time_duration - 3\n",
    "interval = 100\n",
    "heatmap = ax.imshow(u[:, :, 0], cmap='plasma', interpolation='nearest', vmin = 0, vmax = 1)\n",
    "\n",
    "k = 0\n",
    "\n",
    "def update(frame):\n",
    "    global k\n",
    "    heatmap.set_array(u[:, :, k])\n",
    "    k += 1\n",
    "    return [heatmap]\n",
    "\n",
    "plt.colorbar(heatmap)\n",
    "plt.axis('off')\n",
    "ani = FuncAnimation(fig, update, frames=frames, interval=interval, blit=True)\n",
    "ani.save(f'trys/animation{try_number}.gif', writer=PillowWriter(fps=10))"
   ]
  },
  {
   "cell_type": "code",
   "execution_count": null,
   "id": "42125515",
   "metadata": {},
   "outputs": [],
   "source": []
  }
 ],
 "metadata": {
  "kernelspec": {
   "display_name": "Python 3 (ipykernel)",
   "language": "python",
   "name": "python3"
  },
  "language_info": {
   "codemirror_mode": {
    "name": "ipython",
    "version": 3
   },
   "file_extension": ".py",
   "mimetype": "text/x-python",
   "name": "python",
   "nbconvert_exporter": "python",
   "pygments_lexer": "ipython3",
   "version": "3.12.2"
  }
 },
 "nbformat": 4,
 "nbformat_minor": 5
}
