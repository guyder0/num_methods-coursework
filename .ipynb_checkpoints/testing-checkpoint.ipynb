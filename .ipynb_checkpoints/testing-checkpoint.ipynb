{
 "cells": [
  {
   "cell_type": "code",
   "execution_count": 14,
   "id": "ba96940e",
   "metadata": {},
   "outputs": [],
   "source": [
    "import numpy as np\n",
    "import matplotlib.pyplot as plt\n",
    "from matplotlib.animation import FuncAnimation, PillowWriter"
   ]
  },
  {
   "cell_type": "code",
   "execution_count": null,
   "id": "636cd7e2",
   "metadata": {},
   "outputs": [],
   "source": [
    "cadr = 0"
   ]
  },
  {
   "cell_type": "code",
   "execution_count": 58,
   "id": "9c8bae23",
   "metadata": {},
   "outputs": [
    {
     "name": "stdout",
     "output_type": "stream",
     "text": [
      "[[1 0 0 0 0 0 0 0 0 0 0 0 0 0 0 0 0 0 0 0 0 0 0 0 0]\n",
      " [0 1 0 0 0 0 0 0 0 0 0 0 0 0 0 0 0 0 0 0 0 0 0 0 0]\n",
      " [0 0 1 0 0 0 0 0 0 0 0 0 0 0 0 0 0 0 0 0 0 0 0 0 0]\n",
      " [0 0 0 1 0 0 0 0 0 0 0 0 0 0 0 0 0 0 0 0 0 0 0 0 0]\n",
      " [0 0 0 0 1 0 0 0 0 0 0 0 0 0 0 0 0 0 0 0 0 0 0 0 0]\n",
      " [0 0 0 0 0 1 0 0 0 0 0 0 0 0 0 0 0 0 0 0 0 0 0 0 0]\n",
      " [0 3 0 0 0 3 2 3 0 0 0 3 0 0 0 0 0 0 0 0 0 0 0 0 0]\n",
      " [0 0 3 0 0 0 3 2 3 0 0 0 3 0 0 0 0 0 0 0 0 0 0 0 0]\n",
      " [0 0 0 3 0 0 0 3 2 3 0 0 0 3 0 0 0 0 0 0 0 0 0 0 0]\n",
      " [0 0 0 0 0 0 0 0 0 1 0 0 0 0 0 0 0 0 0 0 0 0 0 0 0]\n",
      " [0 0 0 0 0 0 0 0 0 0 1 0 0 0 0 0 0 0 0 0 0 0 0 0 0]\n",
      " [0 0 0 0 0 0 3 0 0 0 3 2 3 0 0 0 3 0 0 0 0 0 0 0 0]\n",
      " [0 0 0 0 0 0 0 3 0 0 0 3 2 3 0 0 0 3 0 0 0 0 0 0 0]\n",
      " [0 0 0 0 0 0 0 0 3 0 0 0 3 2 3 0 0 0 3 0 0 0 0 0 0]\n",
      " [0 0 0 0 0 0 0 0 0 0 0 0 0 0 1 0 0 0 0 0 0 0 0 0 0]\n",
      " [0 0 0 0 0 0 0 0 0 0 0 0 0 0 0 1 0 0 0 0 0 0 0 0 0]\n",
      " [0 0 0 0 0 0 0 0 0 0 0 3 0 0 0 3 2 3 0 0 0 3 0 0 0]\n",
      " [0 0 0 0 0 0 0 0 0 0 0 0 3 0 0 0 3 2 3 0 0 0 3 0 0]\n",
      " [0 0 0 0 0 0 0 0 0 0 0 0 0 3 0 0 0 3 2 3 0 0 0 3 0]\n",
      " [0 0 0 0 0 0 0 0 0 0 0 0 0 0 0 0 0 0 0 1 0 0 0 0 0]\n",
      " [0 0 0 0 0 0 0 0 0 0 0 0 0 0 0 0 0 0 0 0 1 0 0 0 0]\n",
      " [0 0 0 0 0 0 0 0 0 0 0 0 0 0 0 0 0 0 0 0 0 1 0 0 0]\n",
      " [0 0 0 0 0 0 0 0 0 0 0 0 0 0 0 0 0 0 0 0 0 0 1 0 0]\n",
      " [0 0 0 0 0 0 0 0 0 0 0 0 0 0 0 0 0 0 0 0 0 0 0 1 0]\n",
      " [0 0 0 0 0 0 0 0 0 0 0 0 0 0 0 0 0 0 0 0 0 0 0 0 1]]\n"
     ]
    }
   ],
   "source": [
    "n = 5 # размерность сетки\n",
    "mat = np.zeros((n * n, n * n), dtype=int)\n",
    "for i in range(n):\n",
    "    for j in range(n):\n",
    "        row = n * j + i\n",
    "        if i == 0 or i == n - 1 or j == 0 or j == n - 1:\n",
    "            mat[row][row] = 1\n",
    "        else:\n",
    "            mat[row][n * j + i] = 2\n",
    "            mat[row][n * j + (i - 1)] = 3\n",
    "            mat[row][n * j + (i + 1)] = 3\n",
    "            mat[row][n * (j - 1) + i] = 3\n",
    "            mat[row][n * (j + 1) + i] = 3\n",
    "            \n",
    "print(mat)"
   ]
  },
  {
   "cell_type": "code",
   "execution_count": 89,
   "id": "bd7b9859",
   "metadata": {},
   "outputs": [],
   "source": [
    "def transform(A, b):\n",
    "    m = len(A)\n",
    "    B = np.zeros((m, m))\n",
    "    C = np.zeros(m)\n",
    "    for i in range(m):\n",
    "        for j in range(m):\n",
    "            if i == j:\n",
    "                B[i][j] = 0\n",
    "            else:\n",
    "                B[i][j] = - A[i][j] / A[i][i]\n",
    "    for i in range(m):\n",
    "        C[i] = b[i] / A[i][i]\n",
    "\n",
    "    return B, C\n",
    "\n",
    "\n",
    "def seidel_solve(B, C, x):\n",
    "    m = len(x)\n",
    "    result = np.zeros(m)\n",
    "    for i in range(m):\n",
    "        s = 0\n",
    "        for j in range(i):\n",
    "            s += B[i][j] * result[j]\n",
    "        for j in range(i, m):\n",
    "            s += B[i][j] * x[j]\n",
    "        result[i] = s + C[i]\n",
    "    return result\n",
    "\n",
    "\n",
    "def Seidel(A, b, eps):\n",
    "    B, C = transform(A, b)\n",
    "    x = np.zeros(len(A))\n",
    "    y = seidel_solve(B, C, x)\n",
    "    n = 1\n",
    "    r0 = np.linalg.norm(A @ x - b)\n",
    "    rn = np.linalg.norm(A @ y - b)\n",
    "    while rn / r0 > eps and n < 200:\n",
    "        x = y\n",
    "        y = seidel_solve(B, C, x)\n",
    "        rn = np.linalg.norm(A @ y - b)\n",
    "        n += 1\n",
    "    return y"
   ]
  },
  {
   "cell_type": "code",
   "execution_count": 96,
   "id": "408e2190",
   "metadata": {},
   "outputs": [],
   "source": [
    "T = 0.01\n",
    "field_size = 10\n",
    "time_duration = 100\n",
    "\n",
    "t = T / time_duration\n",
    "h = 1 / field_size\n",
    "u = np.zeros((field_size, field_size, int(T / t)))\n",
    "eps = 10 ** -9"
   ]
  },
  {
   "cell_type": "code",
   "execution_count": 97,
   "id": "4315c0a4",
   "metadata": {},
   "outputs": [],
   "source": [
    "def phi(x, y):\n",
    "    return 1\n",
    "\n",
    "def g(x, y, t):\n",
    "    return 2"
   ]
  },
  {
   "cell_type": "code",
   "execution_count": 98,
   "id": "bb3233fd",
   "metadata": {},
   "outputs": [],
   "source": [
    "def generate_matrix(u, k, n, h, t):\n",
    "    A = np.zeros((n * n, n * n))\n",
    "    b = np.zeros(n * n)\n",
    "    for i in range(n):\n",
    "        for j in range(n):\n",
    "            row = n * j + i\n",
    "            b[row] = u[i][j][k]\n",
    "            if i == 0 or i == n - 1 or j == 0 or j == n - 1:\n",
    "                A[row][row] = 1\n",
    "            else:\n",
    "                A[row][n * j + i] = (h ** 2 + 4 * t)\n",
    "                A[row][n * j + (i - 1)] = t\n",
    "                A[row][n * j + (i + 1)] = t\n",
    "                A[row][n * (j - 1) + i] = t\n",
    "                A[row][n * (j + 1) + i] = t\n",
    "    return A, b"
   ]
  },
  {
   "cell_type": "code",
   "execution_count": 99,
   "id": "c3e95fd9",
   "metadata": {},
   "outputs": [],
   "source": [
    "def solve():\n",
    "    for k in range(0, int(T / t)):\n",
    "        if k == 0:\n",
    "            for i in range(field_size):\n",
    "                for j in range(field_size):\n",
    "                    u[i][j][k] = phi(i * h, j * h)\n",
    "        else:            \n",
    "            A, b = generate_matrix(u, k - 1, field_size, h, t)\n",
    "            # np.set_printoptions(threshold=np.inf, linewidth=np.inf)\n",
    "            # print(A)\n",
    "            y = Seidel(A, b, eps)\n",
    "            for i in range(field_size):\n",
    "                for j in range(field_size):\n",
    "                    u[i][j][k] = y[j * field_size + i]\n",
    "                    "
   ]
  },
  {
   "cell_type": "code",
   "execution_count": 101,
   "id": "d7a5a78f",
   "metadata": {},
   "outputs": [
    {
     "name": "stderr",
     "output_type": "stream",
     "text": [
      "C:\\Users\\labeya1\\AppData\\Local\\Temp\\ipykernel_7672\\2794625877.py:37: RuntimeWarning: invalid value encountered in double_scalars\n",
      "  while rn / r0 > eps and n < 200:\n"
     ]
    },
    {
     "data": {
      "image/png": "[encoded data removed]",
      "text/plain": [
       "<Figure size 640x480 with 2 Axes>"
      ]
     },
     "metadata": {},
     "output_type": "display_data"
    }
   ],
   "source": [
    "import numpy as np\n",
    "import matplotlib.pyplot as plt\n",
    "from matplotlib.animation import FuncAnimation\n",
    "\n",
    "# Задаем параметры\n",
    "frames = time_duration - 10  # Количество кадров анимации\n",
    "interval = 100  # Интервал между кадрами в миллисекундах\n",
    " \n",
    "# Создание фигуры и оси\n",
    "fig, ax = plt.subplots()\n",
    "\n",
    "data = np.random.rand(10, 10)\n",
    "\n",
    "# Создание начальной тепловой карты\n",
    "heatmap = ax.imshow(data, cmap='hot', interpolation='nearest', vmin = 0, vmax = 100)\n",
    "\n",
    "# Функция обновления для анимации\n",
    "k = 0\n",
    "solve()\n",
    "\n",
    "\n",
    "def update(frame):\n",
    "    global k\n",
    "    heatmap.set_array(u[:, :, k])\n",
    "    k += 1\n",
    "    return [heatmap]\n",
    "\n",
    "plt.colorbar(heatmap)\n",
    "\n",
    "# Создание анимации\n",
    "\n",
    "ani = FuncAnimation(fig, update, frames=frames, interval=interval, blit=True)\n",
    "ani.save(f'tryis delete after/animation{i}.gif', writer=PillowWriter(fps=10))\n",
    "i += 1\n"
   ]
  },
  {
   "cell_type": "code",
   "execution_count": null,
   "id": "960e57c0",
   "metadata": {},
   "outputs": [],
   "source": []
  }
 ],
 "metadata": {
  "kernelspec": {
   "display_name": "Python 3 (ipykernel)",
   "language": "python",
   "name": "python3"
  },
  "language_info": {
   "codemirror_mode": {
    "name": "ipython",
    "version": 3
   },
   "file_extension": ".py",
   "mimetype": "text/x-python",
   "name": "python",
   "nbconvert_exporter": "python",
   "pygments_lexer": "ipython3",
   "version": "3.10.9"
  }
 },
 "nbformat": 4,
 "nbformat_minor": 5
}
