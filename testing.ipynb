{
 "cells": [
  {
   "cell_type": "code",
   "execution_count": 54,
   "id": "ba96940e",
   "metadata": {},
   "outputs": [],
   "source": [
    "import numpy as np\n",
    "import matplotlib.pyplot as plt\n",
    "from matplotlib.animation import FuncAnimation, PillowWriter\n",
    "from scipy.sparse.linalg import spsolve\n",
    "from scipy.sparse import csr_matrix"
   ]
  },
  {
   "cell_type": "code",
   "execution_count": 39,
   "id": "7b6ed675",
   "metadata": {},
   "outputs": [],
   "source": [
    "cadr=42"
   ]
  },
  {
   "cell_type": "code",
   "execution_count": 40,
   "id": "9c8bae23",
   "metadata": {},
   "outputs": [
    {
     "name": "stdout",
     "output_type": "stream",
     "text": [
      "[[1 0 0 0 0 0 0 0 0 0 0 0 0 0 0 0 0 0 0 0 0 0 0 0 0]\n",
      " [0 1 0 0 0 0 0 0 0 0 0 0 0 0 0 0 0 0 0 0 0 0 0 0 0]\n",
      " [0 0 1 0 0 0 0 0 0 0 0 0 0 0 0 0 0 0 0 0 0 0 0 0 0]\n",
      " [0 0 0 1 0 0 0 0 0 0 0 0 0 0 0 0 0 0 0 0 0 0 0 0 0]\n",
      " [0 0 0 0 1 0 0 0 0 0 0 0 0 0 0 0 0 0 0 0 0 0 0 0 0]\n",
      " [0 0 0 0 0 1 0 0 0 0 0 0 0 0 0 0 0 0 0 0 0 0 0 0 0]\n",
      " [0 3 0 0 0 3 2 3 0 0 0 3 0 0 0 0 0 0 0 0 0 0 0 0 0]\n",
      " [0 0 3 0 0 0 3 2 3 0 0 0 3 0 0 0 0 0 0 0 0 0 0 0 0]\n",
      " [0 0 0 3 0 0 0 3 2 3 0 0 0 3 0 0 0 0 0 0 0 0 0 0 0]\n",
      " [0 0 0 0 0 0 0 0 0 1 0 0 0 0 0 0 0 0 0 0 0 0 0 0 0]\n",
      " [0 0 0 0 0 0 0 0 0 0 1 0 0 0 0 0 0 0 0 0 0 0 0 0 0]\n",
      " [0 0 0 0 0 0 3 0 0 0 3 2 3 0 0 0 3 0 0 0 0 0 0 0 0]\n",
      " [0 0 0 0 0 0 0 3 0 0 0 3 2 3 0 0 0 3 0 0 0 0 0 0 0]\n",
      " [0 0 0 0 0 0 0 0 3 0 0 0 3 2 3 0 0 0 3 0 0 0 0 0 0]\n",
      " [0 0 0 0 0 0 0 0 0 0 0 0 0 0 1 0 0 0 0 0 0 0 0 0 0]\n",
      " [0 0 0 0 0 0 0 0 0 0 0 0 0 0 0 1 0 0 0 0 0 0 0 0 0]\n",
      " [0 0 0 0 0 0 0 0 0 0 0 3 0 0 0 3 2 3 0 0 0 3 0 0 0]\n",
      " [0 0 0 0 0 0 0 0 0 0 0 0 3 0 0 0 3 2 3 0 0 0 3 0 0]\n",
      " [0 0 0 0 0 0 0 0 0 0 0 0 0 3 0 0 0 3 2 3 0 0 0 3 0]\n",
      " [0 0 0 0 0 0 0 0 0 0 0 0 0 0 0 0 0 0 0 1 0 0 0 0 0]\n",
      " [0 0 0 0 0 0 0 0 0 0 0 0 0 0 0 0 0 0 0 0 1 0 0 0 0]\n",
      " [0 0 0 0 0 0 0 0 0 0 0 0 0 0 0 0 0 0 0 0 0 1 0 0 0]\n",
      " [0 0 0 0 0 0 0 0 0 0 0 0 0 0 0 0 0 0 0 0 0 0 1 0 0]\n",
      " [0 0 0 0 0 0 0 0 0 0 0 0 0 0 0 0 0 0 0 0 0 0 0 1 0]\n",
      " [0 0 0 0 0 0 0 0 0 0 0 0 0 0 0 0 0 0 0 0 0 0 0 0 1]]\n"
     ]
    }
   ],
   "source": [
    "n = 5 # размерность сетки\n",
    "mat = np.zeros((n * n, n * n), dtype=int)\n",
    "for i in range(n):\n",
    "    for j in range(n):\n",
    "        row = n * j + i\n",
    "        if i == 0 or i == n - 1 or j == 0 or j == n - 1:\n",
    "            mat[row][row] = 1\n",
    "        else:\n",
    "            mat[row][n * j + i] = 2\n",
    "            mat[row][n * j + (i - 1)] = 3\n",
    "            mat[row][n * j + (i + 1)] = 3\n",
    "            mat[row][n * (j - 1) + i] = 3\n",
    "            mat[row][n * (j + 1) + i] = 3\n",
    "            \n",
    "print(mat)"
   ]
  },
  {
   "cell_type": "code",
   "execution_count": 158,
   "id": "bd7b9859",
   "metadata": {},
   "outputs": [],
   "source": [
    "def transform(A, b):\n",
    "    m = len(A)\n",
    "    B = np.zeros((m, m))\n",
    "    C = np.zeros(m)\n",
    "    for i in range(m):\n",
    "        for j in range(m):\n",
    "            if i == j:\n",
    "                B[i][j] = 0\n",
    "            else:\n",
    "                B[i][j] = - A[i][j] / A[i][i]\n",
    "    for i in range(m):\n",
    "        C[i] = b[i] / A[i][i]\n",
    "\n",
    "    return B, C\n",
    "\n",
    "\n",
    "def seidel_solve(B, C, x):\n",
    "    m = len(x)\n",
    "    result = np.zeros(m)\n",
    "    for i in range(m):\n",
    "        s = 0\n",
    "        for j in range(i):\n",
    "            s += B[i][j] * result[j]\n",
    "        for j in range(i, m):\n",
    "            s += B[i][j] * x[j]\n",
    "        result[i] = s + C[i]\n",
    "    return result\n",
    "\n",
    "\n",
    "def Seidel(A, b, eps):\n",
    "    B, C = transform(A, b)\n",
    "    x = np.zeros(len(A))\n",
    "    y = seidel_solve(B, C, x)\n",
    "    n = 1\n",
    "    r0 = np.linalg.norm(A @ x - b)\n",
    "    rn = np.linalg.norm(A @ y - b)\n",
    "    while rn / r0 > eps and n < 200:\n",
    "        x = y\n",
    "        y = seidel_solve(B, C, x)\n",
    "        rn = np.linalg.norm(A @ y - b)\n",
    "        n += 1\n",
    "    return y"
   ]
  },
  {
   "cell_type": "code",
   "execution_count": 200,
   "id": "ae92e0a6",
   "metadata": {},
   "outputs": [],
   "source": [
    "T = 0.1\n",
    "field_size = 100\n",
    "time_duration = 100\n",
    "\n",
    "t = T / time_duration\n",
    "h = 1 / field_size\n",
    "u = np.zeros((field_size, field_size, int(T / t)))\n",
    "eps = 10 ** -5"
   ]
  },
  {
   "cell_type": "code",
   "execution_count": 211,
   "id": "39149a42",
   "metadata": {},
   "outputs": [],
   "source": [
    "def phi(x, y):\n",
    "    return np.sin(x + y)\n",
    "\n",
    "def g(x, y, t):\n",
    "    return np.cos(x + y)"
   ]
  },
  {
   "cell_type": "code",
   "execution_count": 222,
   "id": "250c02d2",
   "metadata": {},
   "outputs": [],
   "source": [
    "# Ника сделать это по человечески, рассмотреть все граничные условия дял матрицы и переписать весь код по человечсеский\n",
    "def generate_matrix(n, h, t):\n",
    "    A = np.zeros((n * n, n * n))\n",
    "    for i in range(n):\n",
    "        for j in range(n):\n",
    "            row = n * j + i\n",
    "            if i == 0 or i == n - 1 or j == 0 or j == n - 1:\n",
    "                A[row][row] = 1\n",
    "            else:\n",
    "                A[row][n * j + i] = (h ** 2 + 4 * t)\n",
    "                A[row][n * j + (i - 1)] = -t\n",
    "                A[row][n * j + (i + 1)] = -t\n",
    "                A[row][n * (j - 1) + i] = -t\n",
    "                A[row][n * (j + 1) + i] = -t\n",
    "    return A\n",
    "\n",
    "def generate_b(u, n, h, t, k):\n",
    "    # b = np.zeros(n * n)\n",
    "    # for i in range(n):\n",
    "    #     for j in range(n):\n",
    "    #         row = j * n + i\n",
    "    #         if i == 0 or i == n - 1 or j == 0 or j == n - 1:\n",
    "    #             b[row] = g(i * h, j * h, k * t)\n",
    "    #         else:\n",
    "    #             b[row] = h ** 2 * u[i][j][k]\n",
    "    b = np.zeros((n, n))\n",
    "\n",
    "    # Массив для индексации граничных элементов\n",
    "    boundary_mask = np.zeros((n, n), dtype=bool)\n",
    "    boundary_mask[0, :] = boundary_mask[-1, :] = True\n",
    "    boundary_mask[:, 0] = boundary_mask[:, -1] = True\n",
    "    \n",
    "    # Массив для индексации внутренних элементов\n",
    "    inner_mask = ~boundary_mask\n",
    "    \n",
    "    # Заполняем граничные элементы с использованием функции g\n",
    "    i, j = np.where(boundary_mask)\n",
    "    b[boundary_mask] = g(i * h, j * h, k * t)\n",
    "    \n",
    "    # Заполняем внутренние элементы с использованием u и h\n",
    "    b[inner_mask] = h ** 2 * u[inner_mask][:, k]\n",
    "    \n",
    "    # Разворачиваем матрицу b в одномерный массив\n",
    "    b = b.ravel()\n",
    "    \n",
    "    return b"
   ]
  },
  {
   "cell_type": "code",
   "execution_count": 223,
   "id": "cc8bd71a",
   "metadata": {},
   "outputs": [],
   "source": [
    "def solve():\n",
    "    A = generate_matrix(field_size, h, t)\n",
    "    # np.set_printoptions(threshold=np.inf)\n",
    "    # print(A)\n",
    "\n",
    "    for k in range(0, int(T / t)):\n",
    "        if k == 0:\n",
    "            for i in range(field_size):\n",
    "                for j in range(field_size):\n",
    "                    if i == 0 or j == 0 or i == field_size - 1 or j == field_size - 1:\n",
    "                        u[i][j][k] = g(i * h, j * h, 0)\n",
    "                    else:\n",
    "                        u[i][j][k] = phi(i * h, j * h)\n",
    "        else:            \n",
    "            b = generate_b(u, field_size, h, t, k - 1)\n",
    "            # print(b)\n",
    "            # np.set_printoptions(threshold=np.inf, linewidth=np.inf)\n",
    "            # print(A)\n",
    "            y = spsolve(csr_matrix(A), b)\n",
    "            u[:, :, k] = y.reshape(field_size, field_size)\n",
    "                    "
   ]
  },
  {
   "cell_type": "code",
   "execution_count": 224,
   "id": "a486f71c-70ef-4495-8605-0d9a8a1c791d",
   "metadata": {},
   "outputs": [],
   "source": [
    "solve()"
   ]
  },
  {
   "cell_type": "code",
   "execution_count": 225,
   "id": "a961024f",
   "metadata": {},
   "outputs": [
    {
     "data": {
      "image/png": "[encoded data removed]",
      "text/plain": [
       "<Figure size 640x480 with 2 Axes>"
      ]
     },
     "metadata": {},
     "output_type": "display_data"
    }
   ],
   "source": [
    "import numpy as np\n",
    "import matplotlib.pyplot as plt\n",
    "from matplotlib.animation import FuncAnimation\n",
    "\n",
    "# Задаем параметры\n",
    "frames = time_duration - 10  # Количество кадров анимации\n",
    "interval = 100  # Интервал между кадрами в миллисекундах\n",
    " \n",
    "# Создание фигуры и оси\n",
    "fig, ax = plt.subplots()\n",
    "\n",
    "data = np.random.rand(10, 10)\n",
    "\n",
    "# Создание начальной тепловой карты\n",
    "heatmap = ax.imshow(data, cmap='plasma', interpolation='nearest', vmin = 0, vmax = 1)\n",
    "\n",
    "# Функция обновления для анимации\n",
    "k = 0\n",
    "\n",
    "def update(frame):\n",
    "    global k\n",
    "    heatmap.set_array(u[:, :, k])\n",
    "    k += 1\n",
    "    # print(u[:, :, k])\n",
    "    return [heatmap]\n",
    "\n",
    "plt.colorbar(heatmap)\n",
    "\n",
    "# Создание анимации\n",
    "\n",
    "ani = FuncAnimation(fig, update, frames=frames, interval=interval, blit=True)\n",
    "ani.save(f'tryis delete after/animation{cadr}.gif', writer=PillowWriter(fps=10))\n",
    "cadr += 1\n"
   ]
  },
  {
   "cell_type": "code",
   "execution_count": null,
   "id": "a2ad37d8",
   "metadata": {},
   "outputs": [],
   "source": []
  },
  {
   "cell_type": "code",
   "execution_count": null,
   "id": "99ec9536",
   "metadata": {},
   "outputs": [],
   "source": []
  }
 ],
 "metadata": {
  "kernelspec": {
   "display_name": "Python 3 (ipykernel)",
   "language": "python",
   "name": "python3"
  },
  "language_info": {
   "codemirror_mode": {
    "name": "ipython",
    "version": 3
   },
   "file_extension": ".py",
   "mimetype": "text/x-python",
   "name": "python",
   "nbconvert_exporter": "python",
   "pygments_lexer": "ipython3",
   "version": "3.12.2"
  }
 },
 "nbformat": 4,
 "nbformat_minor": 5
}
