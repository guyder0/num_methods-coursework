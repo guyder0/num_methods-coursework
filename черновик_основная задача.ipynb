{
 "cells": [
  {
   "cell_type": "markdown",
   "id": "0133cfea-00a9-498e-887c-490b11c7e02b",
   "metadata": {},
   "source": [
    "# Задача\n",
    "\n",
    "Уравнение теплопроводности:\n",
    "\n",
    "$u_t = u_{xx} + u_{yy}$, где $x, y \\in (0, 1);\\ t \\in (0, T)$\n",
    "\n",
    "Краевые условия:\n",
    "\n",
    "$u \\big|_{t = 0} = \\phi(x, y)$\n",
    "\n",
    "$u \\big|_\\Gamma = g(x, y, t)$\n",
    "\n",
    "Требуется: промоделировать температурное изменение пластины в зависимости от $\\phi(x, y)$ и $g(x, y, t)$."
   ]
  },
  {
   "cell_type": "markdown",
   "id": "24c81ee5-d56d-4466-a6e3-67e4fc6cdb42",
   "metadata": {},
   "source": [
    "# Как будем решать?\n",
    "\n",
    "составим сеточную схему с шагом $h$ (разбили $[0, 1]$ на $n$ частей) по осям $x, y$ и с шагом $\\tau$ (разбили $[0, T]$ на $m$ частей) по $t$\n",
    "\n",
    "будем считать\n",
    "\n",
    "$\n",
    "\\newcommand{\\u}[3]{u_{#1, #2}^{#3}}\n",
    "\\u{i}{j}{k} = u(x_i, y_j, t_k), \\text{ где:}\n",
    "$\n",
    "\n",
    "$x_i = ih \\text{ так, что } nh = 1$\n",
    "\n",
    "$y_j = jh \\text{ так, что } nh = 1$\n",
    "\n",
    "$t_k = k\\tau \\text{ так, что } m\\tau = T$\n",
    "\n",
    "из краевых условий сразу знаем:\n",
    "\n",
    "* $\\u{i}{j}{0}\\ \\forall i, j$ (благодаря первому краевому условию)\n",
    "\n",
    "* $\\u{0}{j}{k}, \\u{n}{j}{k}\\ \\forall j$ (благодаря второму краевому условию)\n",
    "\n",
    "* $\\u{i}{0}{k}, \\u{i}{n}{k}\\ \\forall i$ (благодаря второму краевому условию)\n",
    "\n",
    "переписать уравнение в виде разностной схемы:\n",
    "\n",
    "$$\n",
    "\\frac{ \\u{i}{j}{k + 1} - \\u{i}{j}{k} }\n",
    "     { h } =\n",
    "\\frac{ \\u{i - 1}{j}{k} - 2\\u{i}{j}{k} + \\u{i + 1}{j}{k} }\n",
    "     { \\tau^2 } +\n",
    "\\frac{ \\u{i}{j - 1}{k} - 2\\u{i}{j}{k} + \\u{i}{j + 1}{k} }\n",
    "     { \\tau^2 }\n",
    "$$\n",
    "\n",
    "Отсюда явно из $k$-го слоя выражается $k+1$-й слой (кроме слоя на границах, значения которых нам даёт второе граничное условие):\n",
    "\n",
    "$\\u{i}{j}{k + 1} = h\\left[ \n",
    "\\frac{ \\u{i - 1}{j}{k} - 2\\u{i}{j}{k} + \\u{i + 1}{j}{k} }\n",
    "     { \\tau^2 } +\n",
    "\\frac{ \\u{i}{j - 1}{k} - 2\\u{i}{j}{k} + \\u{i}{j + 1}{k} }\n",
    "     { \\tau^2 }\n",
    "\\right] + \\u{i}{j}{k}\\\n",
    "\\forall i, j \\in \\{1, 2, \\dots, n - 1\\}, k \\in \\{0, 1, \\dots, m - 1\\}$\n",
    "\n",
    "А в остальных узнах:\n",
    "\n",
    "$\\u{i}{j}{0} = \\phi(x_i, y_j)$\n",
    "\n",
    "$\\u{0}{j}{k} = g(0, y_j, t_k)$\n",
    "\n",
    "$\\u{n}{j}{k} = g(1, y_j, t_k)$\n",
    "\n",
    "$\\u{i}{0}{k} = g(x_i, 0, t_k)$\n",
    "\n",
    "$\\u{i}{n}{k} = g(x_i, 1, t_k)$"
   ]
  },
  {
   "cell_type": "code",
   "execution_count": 80,
   "id": "4d4b62b8",
   "metadata": {},
   "outputs": [],
   "source": [
    "import numpy as np\n",
    "import matplotlib.pyplot as plt\n",
    "from matplotlib.animation import FuncAnimation, PillowWriter"
   ]
  },
  {
   "cell_type": "code",
   "execution_count": 296,
   "id": "846d1d32-3ae1-4ed8-8395-00fc7067ee8b",
   "metadata": {},
   "outputs": [],
   "source": [
    "T = 0.01\n",
    "field_size = 50\n",
    "time_duration = 100\n",
    "t = T / time_duration\n",
    "h = 1 / field_size\n",
    "\n",
    "u = np.zeros((field_size, field_size, int(T / t)))"
   ]
  },
  {
   "cell_type": "code",
   "execution_count": 297,
   "id": "c1584d78",
   "metadata": {},
   "outputs": [],
   "source": [
    "def phi(x, y):\n",
    "    return 1\n",
    "\n",
    "def g(x, y, t):\n",
    "    return 100"
   ]
  },
  {
   "cell_type": "code",
   "execution_count": 298,
   "id": "e3d34ed7",
   "metadata": {},
   "outputs": [],
   "source": [
    "def solve():\n",
    "    for k in range(0, int(T / t)):\n",
    "        for i in range(field_size):\n",
    "            for j in range(field_size):\n",
    "                if k == 0:\n",
    "                    u[i][j][k] = phi(i * h, j * h)\n",
    "                elif i == 0 or i == field_size - 1 or j == 0 or j == field_size - 1:\n",
    "                    u[i][j][k] = g(i * h, j * h, k * t)\n",
    "                else:     \n",
    "                    u[i][j][k] = t * ((u[i - 1][j][k - 1] - 2 * u[i][j][k - 1] + u[i + 1][j][k - 1]) / h ** 2 + \\\n",
    "                                + (u[i][j - 1][k - 1] - 2 * u[i][j][k - 1] + u[i][j + 1][k - 1]) / h ** 2) + u[i][j][k - 1]"
   ]
  },
  {
   "cell_type": "code",
   "execution_count": 299,
   "id": "0066b5f6",
   "metadata": {},
   "outputs": [
    {
     "data": {
      "image/png": "[encoded data removed]",
      "text/plain": [
       "<Figure size 640x480 with 2 Axes>"
      ]
     },
     "metadata": {},
     "output_type": "display_data"
    }
   ],
   "source": [
    "import numpy as np\n",
    "import matplotlib.pyplot as plt\n",
    "from matplotlib.animation import FuncAnimation\n",
    "\n",
    "# Задаем параметры\n",
    "frames = time_duration - 10  # Количество кадров анимации\n",
    "interval = 100  # Интервал между кадрами в миллисекундах\n",
    "\n",
    "# Создание фигуры и оси\n",
    "fig, ax = plt.subplots()\n",
    "\n",
    "data = np.random.rand(10, 10)\n",
    "\n",
    "# Создание начальной тепловой карты\n",
    "heatmap = ax.imshow(data, cmap='hot', interpolation='nearest', vmin = 0, vmax = 100)\n",
    "\n",
    "# Функция обновления для анимации\n",
    "k = 0\n",
    "solve()\n",
    "\n",
    "def update(frame):\n",
    "    global k\n",
    "    heatmap.set_array(u[:, :, k])\n",
    "    k += 1\n",
    "    return [heatmap]\n",
    "\n",
    "plt.colorbar(heatmap)\n",
    "\n",
    "# Создание анимации\n",
    "ani = FuncAnimation(fig, update, frames=frames, interval=interval, blit=True)\n",
    "ani.save(\"animation1_5.gif\", writer=PillowWriter(fps=10))\n",
    "\n"
   ]
  },
  {
   "cell_type": "code",
   "execution_count": null,
   "id": "6bab2555",
   "metadata": {},
   "outputs": [],
   "source": []
  },
  {
   "cell_type": "code",
   "execution_count": null,
   "id": "1e8fbc85",
   "metadata": {},
   "outputs": [],
   "source": []
  }
 ],
 "metadata": {
  "kernelspec": {
   "display_name": "Python 3 (ipykernel)",
   "language": "python",
   "name": "python3"
  },
  "language_info": {
   "codemirror_mode": {
    "name": "ipython",
    "version": 3
   },
   "file_extension": ".py",
   "mimetype": "text/x-python",
   "name": "python",
   "nbconvert_exporter": "python",
   "pygments_lexer": "ipython3",
   "version": "3.10.9"
  }
 },
 "nbformat": 4,
 "nbformat_minor": 5
}
