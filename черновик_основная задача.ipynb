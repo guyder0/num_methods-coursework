{
 "cells": [
  {
   "cell_type": "markdown",
   "id": "0133cfea-00a9-498e-887c-490b11c7e02b",
   "metadata": {},
   "source": [
    "# Задача\n",
    "\n",
    "Уравнение теплопроводности:\n",
    "\n",
    "$u_t = u_{xx} + u_{yy}$, где $x, y \\in (0, 1);\\ t \\in (0, T)$\n",
    "\n",
    "Краевые условия:\n",
    "\n",
    "$u \\big|_{t = 0} = \\phi(x, y)$\n",
    "\n",
    "$u \\big|_\\Gamma = g(x, y, t)$\n",
    "\n",
    "Требуется: промоделировать температурное изменение пластины в зависимости от $\\phi(x, y)$ и $g(x, y, t)$."
   ]
  },
  {
   "cell_type": "markdown",
   "id": "24c81ee5-d56d-4466-a6e3-67e4fc6cdb42",
   "metadata": {},
   "source": [
    "# Как будем решать?\n",
    "\n",
    "составим сеточную схему с шагом $h$ (разбили $[0, 1]$ на $n$ частей) по осям $x, y$ и с шагом $\\tau$ (разбили $[0, T]$ на $m$ частей) по $t$\n",
    "\n",
    "будем считать\n",
    "\n",
    "$\n",
    "\\newcommand{\\u}[3]{u_{#1, #2}^{#3}}\n",
    "\\u{i}{j}{k} = u(x_i, y_j, t_k), \\text{ где:}\n",
    "$\n",
    "\n",
    "$x_i = ih \\text{ так, что } nh = 1$\n",
    "\n",
    "$y_j = jh \\text{ так, что } nh = 1$\n",
    "\n",
    "$t_k = k\\tau \\text{ так, что } m\\tau = T$\n",
    "\n",
    "из краевых условий сразу знаем:\n",
    "\n",
    "* $\\u{i}{j}{0}\\ \\forall i, j$ (благодаря первому краевому условию)\n",
    "\n",
    "* $\\u{0}{j}{k}, \\u{n}{j}{k}\\ \\forall j$ (благодаря второму краевому условию)\n",
    "\n",
    "* $\\u{i}{0}{k}, \\u{i}{n}{k}\\ \\forall i$ (благодаря второму краевому условию)\n",
    "\n",
    "переписать уравнение в виде разностной схемы:\n",
    "\n",
    "$$\n",
    "\\frac{ \\u{i}{j}{k + 1} - \\u{i}{j}{k} }\n",
    "     { h } =\n",
    "\\frac{ \\u{i - 1}{j}{k} - 2\\u{i}{j}{k} + \\u{i + 1}{j}{k} }\n",
    "     { \\tau^2 } +\n",
    "\\frac{ \\u{i}{j - 1}{k} - 2\\u{i}{j}{k} + \\u{i}{j + 1}{k} }\n",
    "     { \\tau^2 }\n",
    "$$\n",
    "\n",
    "Отсюда явно из $k$-го слоя выражается $k+1$-й слой (кроме слоя на границах, значения которых нам даёт второе граничное условие):\n",
    "\n",
    "$\\u{i}{j}{k + 1} = h\\left[ \n",
    "\\frac{ \\u{i - 1}{j}{k} - 2\\u{i}{j}{k} + \\u{i + 1}{j}{k} }\n",
    "     { \\tau^2 } +\n",
    "\\frac{ \\u{i}{j - 1}{k} - 2\\u{i}{j}{k} + \\u{i}{j + 1}{k} }\n",
    "     { \\tau^2 }\n",
    "\\right] + \\u{i}{j}{k}\\\n",
    "\\forall i, j \\in \\{1, 2, \\dots, n - 1\\}, k \\in \\{0, 1, \\dots, m - 1\\}$\n",
    "\n",
    "А в остальных узнах:\n",
    "\n",
    "$\\u{i}{j}{0} = \\phi(x_i, y_j)$\n",
    "\n",
    "$\\u{0}{j}{k} = g(0, y_j, t_k)$\n",
    "\n",
    "$\\u{n}{j}{k} = g(1, y_j, t_k)$\n",
    "\n",
    "$\\u{i}{0}{k} = g(x_i, 0, t_k)$\n",
    "\n",
    "$\\u{i}{n}{k} = g(x_i, 1, t_k)$"
   ]
  },
  {
   "cell_type": "code",
   "execution_count": null,
   "id": "846d1d32-3ae1-4ed8-8395-00fc7067ee8b",
   "metadata": {},
   "outputs": [],
   "source": []
  }
 ],
 "metadata": {
  "kernelspec": {
   "display_name": "Python 3 (ipykernel)",
   "language": "python",
   "name": "python3"
  },
  "language_info": {
   "codemirror_mode": {
    "name": "ipython",
    "version": 3
   },
   "file_extension": ".py",
   "mimetype": "text/x-python",
   "name": "python",
   "nbconvert_exporter": "python",
   "pygments_lexer": "ipython3",
   "version": "3.11.5"
  }
 },
 "nbformat": 4,
 "nbformat_minor": 5
}
